{
  "nbformat": 4,
  "nbformat_minor": 0,
  "metadata": {
    "colab": {
      "provenance": [],
      "authorship_tag": "ABX9TyPrvODK1r8XpeEu9u58fr6d",
      "include_colab_link": true
    },
    "kernelspec": {
      "name": "python3",
      "display_name": "Python 3"
    },
    "language_info": {
      "name": "python"
    }
  },
  "cells": [
    {
      "cell_type": "markdown",
      "metadata": {
        "id": "view-in-github",
        "colab_type": "text"
      },
      "source": [
        "<a href=\"https://colab.research.google.com/github/GabrielMariusso/Projeto_Holerites/blob/main/V1_Separador_e_Nomeador_de_Holerites.ipynb\" target=\"_parent\"><img src=\"https://colab.research.google.com/assets/colab-badge.svg\" alt=\"Open In Colab\"/></a>"
      ]
    },
    {
      "cell_type": "code",
      "source": [
        "#Instalação das bibliotecas que não são nativas no Google Colaboratory\n",
        "!pip install PyPDF2==2.12.1\n",
        "!pip install pdfplumber\n",
        "\n",
        "#Importando as bibliotecas\n",
        "import os\n",
        "import pdfplumber\n",
        "from PyPDF2 import PdfFileWriter, PdfFileReader\n",
        "from google.colab import drive\n",
        "\n",
        "#Conectando o colab ao Google Drive\n",
        "drive.mount('/content/gdrive')"
      ],
      "metadata": {
        "id": "9o9Ui5vPXlWI"
      },
      "execution_count": null,
      "outputs": []
    },
    {
      "cell_type": "code",
      "execution_count": 43,
      "metadata": {
        "id": "aM_qXsj4XhZU"
      },
      "outputs": [],
      "source": [
        "def pdf_get_name(page, pdf_file):\n",
        "\n",
        "  #O método open retorna uma instância da classe pdfplumber.PDF.\n",
        "  pdf_content = pdfplumber.open(pdf_file)\n",
        "\n",
        "  #Seleciona a página.\n",
        "  pdf_page = pdf_content.pages[page]\n",
        "\n",
        "  #Extrai o texto dividido por quebras de linha  \n",
        "  pdf_text = pdf_page.extract_text().split('\\n')\n",
        "\n",
        "  #O nome que precisa ser extraído está na posição 8 da lista 'pdf_text'.\n",
        "  line = pdf_text[8]\n",
        "\n",
        "  name = line.split(' ')\n",
        "\n",
        "  if name[1] == 'DOS' or name[1] == 'DA' or name[1] == 'DE' or name[1] == 'AP.':\n",
        "\n",
        "    fullname = name[0] + ' ' + name[1] + ' ' + name[2]\n",
        "  \n",
        "  else:\n",
        "  \n",
        "    fullname = name[0] + ' ' + name[1]\n",
        "\n",
        "  return fullname"
      ]
    },
    {
      "cell_type": "code",
      "source": [
        "#Caminho para o arquivo original\n",
        "pdf_file = '/content/gdrive/MyDrive/Holerites/holerites.pdf'\n",
        "\n",
        "#Pasta onde os PDFs serão salvos\n",
        "out_dir = '/content/gdrive/MyDrive/Holerites'\n",
        "\n",
        "def pdf_sep (index, src_file):\n",
        "\n",
        "  with open(src_file, 'rb') as pdf:\n",
        "    pdf_content = PdfFileReader(pdf)\n",
        "    pdf_writer = PdfFileWriter()   \n",
        "    pdf_writer.addPage(pdf_content.getPage(index))\n",
        "    pdf_name = pdf_get_name(page,pdf_file)\n",
        "    pdf_out = os.path.join(out_dir, pdf_name +'.pdf')\n",
        "    \n",
        "    with open(pdf_out, 'wb') as pdf_named:\n",
        "      pdf_writer.write(pdf_named)\n",
        "      \n",
        "num_pages = PdfFileReader(pdf_file).getNumPages()\n",
        "\n",
        "for page in range(num_pages): pdf_sep (page, pdf_file)"
      ],
      "metadata": {
        "id": "Q0E8pW9C42dP"
      },
      "execution_count": 46,
      "outputs": []
    }
  ]
}