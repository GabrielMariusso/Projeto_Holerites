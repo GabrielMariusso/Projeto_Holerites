{
  "nbformat": 4,
  "nbformat_minor": 0,
  "metadata": {
    "colab": {
      "provenance": []
    },
    "kernelspec": {
      "name": "python3",
      "display_name": "Python 3"
    },
    "language_info": {
      "name": "python"
    }
  },
  "cells": [
    {
      "cell_type": "code",
      "source": [
        "#Instalação das bibliotecas que não são nativas no Google Colaboraatory\n",
        "!pip install PyPDF2==2.12.1\n",
        "!pip install pdfplumber\n",
        "\n",
        "#Importando as bibliotecas\n",
        "import os\n",
        "import pdfplumber\n",
        "from PyPDF2 import PdfWriter, PdfReader\n",
        "from google.colab import drive\n",
        "\n",
        "#Conectando o colab ao Google Drive\n",
        "drive.mount('/content/gdrive') "
      ],
      "metadata": {
        "id": "9o9Ui5vPXlWI"
      },
      "execution_count": null,
      "outputs": []
    },
    {
      "cell_type": "code",
      "execution_count": null,
      "metadata": {
        "id": "aM_qXsj4XhZU"
      },
      "outputs": [],
      "source": [
        "def pdf_get_name(page, pdf_file):\n",
        "\n",
        "  #O método open retorna uma instância da classe pdfplumber.PDF.\n",
        "  pdf_content = pdfplumber.open(pdf_file)\n",
        "\n",
        "  #Seleciona a página.\n",
        "  pdf_page = pdf_content.pages[page]\n",
        "\n",
        "  #Extrai o texto dividido por quebras de linha  \n",
        "  pdf_text = pdf_page.extract_text().split('\\n')\n",
        "\n",
        "  #O nome que precisa ser extraído está na posição 4 da lista 'pdf_text'.\n",
        "  line = pdf_text[8]\n",
        "\n",
        "  name = line.split(' ')\n",
        "\n",
        "  fullname = name[0] + ' ' + name[1]\n",
        "\n",
        "  return fullname"
      ]
    },
    {
      "cell_type": "code",
      "source": [
        "def pdf_sep(pdf_file, out_dir):\n",
        "\n",
        "  #Abre o pdf original no modo de leitura\n",
        "  with open(pdf_file, 'rb') as pdf:\n",
        "\n",
        "    #Cria dois objetos, o primeiro da classe PdfFileReader para leitura e o segundo, da classe PdfFileWriter, para escrita\n",
        "    pdf_content = PdfReader(pdf_file)\n",
        "    pdf_writer = PdfWriter()\n",
        "\n",
        "    #Armazena o quantidade de páginas do pdf original\n",
        "    num_pages = pdf_content.getNumPages()\n",
        "    \n",
        "    #Faz uma iteração para cada uma das páginas\n",
        "    for page in range(num_pages):\n",
        "\n",
        "      #Adiciona a página da iteração atual ao objeto para escrita do PDF\n",
        "      pdf_writer.addPage(pdf_content.getPage(page))\n",
        "\n",
        "      #Invoca a função pdf_get_name para extrair o nome contido na página atual\n",
        "      pdf_name = pdf_get_name(page,pdf_file)\n",
        "      \n",
        "      #O médoto os.path.join() une o caminho para gravação, o nome e a extesão do arquivo pdf. \n",
        "      pdf_out = os.path.join(out_dir, pdf_name +'.pdf')\n",
        "\n",
        "      #Grava o objeto de escrita no arquivo\n",
        "      with open(pdf_out, 'wb') as pdf_named:\n",
        "        pdf_writer.write(pdf_named)\n",
        "\n",
        "#Testando as funções\n",
        "\n",
        "#Caminho para o arquivo original\n",
        "pdf_file = '/content/gdrive/MyDrive/Holerites/holerites.pdf'\n",
        "\n",
        "#Pasta onde os PDFs serão salvos\n",
        "out_dir = '/content/gdrive/MyDrive/Holerites'\n",
        "\n",
        "#Invoca a função separador\n",
        "pdf_sep(pdf_file, out_dir)\n"
      ],
      "metadata": {
        "id": "pMFp63Lwa2dH"
      },
      "execution_count": null,
      "outputs": []
    }
  ]
}